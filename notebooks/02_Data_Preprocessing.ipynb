{
 "cells": [
  {
   "cell_type": "markdown",
   "id": "9659e21f",
   "metadata": {},
   "source": [
    "#### notebooks/02_Data_Preprocessing.ipynb"
   ]
  },
  {
   "cell_type": "code",
   "execution_count": 1,
   "id": "a049123d",
   "metadata": {},
   "outputs": [],
   "source": [
    "#Import libraries\n",
    "import os\n",
    "import sys\n",
    "import pandas as pd\n",
    "pd.set_option('display.max_colwidth', None)\n",
    "\n",
    "from IPython.display import display\n",
    "# Add project root to Python path\n",
    "project_root = os.path.abspath(os.path.join(os.getcwd(), '..'))\n",
    "if project_root not in sys.path:\n",
    "    sys.path.append(project_root)\n",
    "\n",
    "# Import the preprocessing functions\n",
    "from src.preprocess import clean_data, save_clean_data\n",
    "from src.config import SKILLS_LIST, JOB_CATEGORIES, CLUSTER_COLORS\n"
   ]
  },
  {
   "cell_type": "code",
   "execution_count": 2,
   "id": "a94cb9a4",
   "metadata": {},
   "outputs": [
    {
     "name": "stdout",
     "output_type": "stream",
     "text": [
      "Performing advanced skill extraction...\n",
      "Jobs with no skills after first pass: 1040\n",
      "Applying fallback categorization...\n",
      "Jobs with no skills after fallback: 0\n"
     ]
    }
   ],
   "source": [
    "# Load raw data\n",
    "df_raw = pd.read_csv('../data/raw/jobs_raw_full.csv')\n",
    "\n",
    "# Use the clean_data function (which internally uses all other functions)\n",
    "df_clean = clean_data(df_raw)\n",
    "\n",
    "# Save the results\n",
    "save_clean_data(df_clean, '../data/processed/jobs_clean.csv')\n"
   ]
  },
  {
   "cell_type": "code",
   "execution_count": 3,
   "id": "690d18b5",
   "metadata": {},
   "outputs": [
    {
     "name": "stdout",
     "output_type": "stream",
     "text": [
      "Cleaned data shape: (1783, 12)\n",
      "\n",
      "Columns after cleaning:\n",
      "['title', 'description', 'salary_min', 'salary_max', 'latitude', 'longitude', 'salary_mid', 'country', 'region', 'county', 'city', 'skills_extracted']\n",
      "\n",
      "First few rows of cleaned data:\n"
     ]
    },
    {
     "data": {
      "text/html": [
       "<div>\n",
       "<style scoped>\n",
       "    .dataframe tbody tr th:only-of-type {\n",
       "        vertical-align: middle;\n",
       "    }\n",
       "\n",
       "    .dataframe tbody tr th {\n",
       "        vertical-align: top;\n",
       "    }\n",
       "\n",
       "    .dataframe thead th {\n",
       "        text-align: right;\n",
       "    }\n",
       "</style>\n",
       "<table border=\"1\" class=\"dataframe\">\n",
       "  <thead>\n",
       "    <tr style=\"text-align: right;\">\n",
       "      <th></th>\n",
       "      <th>title</th>\n",
       "      <th>description</th>\n",
       "      <th>salary_min</th>\n",
       "      <th>salary_max</th>\n",
       "      <th>latitude</th>\n",
       "      <th>longitude</th>\n",
       "      <th>salary_mid</th>\n",
       "      <th>country</th>\n",
       "      <th>region</th>\n",
       "      <th>county</th>\n",
       "      <th>city</th>\n",
       "      <th>skills_extracted</th>\n",
       "    </tr>\n",
       "  </thead>\n",
       "  <tbody>\n",
       "    <tr>\n",
       "      <th>0</th>\n",
       "      <td>Data Engineer</td>\n",
       "      <td>At NTT DATA, we know that with the right people on board, anything is possible. The quality, integrity, and commitment of our employees are key factors in our company’s growth, market presence and our ability to help our clients stay a step ahead of the competition. By hiring the best people and helping them grow both professionally and personally, we ensure a bright future for NTT DATA and for the people who work here. NTT DATA is currently looking for a Data Engineer for our growing team in t…</td>\n",
       "      <td>60358.53</td>\n",
       "      <td>60358.53</td>\n",
       "      <td>55.86026</td>\n",
       "      <td>-4.25596</td>\n",
       "      <td>60358.53</td>\n",
       "      <td>UK</td>\n",
       "      <td>Scotland</td>\n",
       "      <td>Glasgow</td>\n",
       "      <td>Unknown</td>\n",
       "      <td>general tech skills</td>\n",
       "    </tr>\n",
       "    <tr>\n",
       "      <th>1</th>\n",
       "      <td>Senior Data Analyst</td>\n",
       "      <td>Competitive salary | UK/Glasgow: hybrid working model (2-3 days on site) At NTT DATA, we know that with the right people on board, anything is possible. The quality, integrity, and commitment of our employees are key factors in our company’s growth, market presence and our ability to help our clients stay a step ahead of the competition. By hiring the best people and helping them grow both professionally and personally, we ensure a bright future for NTT DATA and for the people who work here. NT…</td>\n",
       "      <td>72252.80</td>\n",
       "      <td>72252.80</td>\n",
       "      <td>55.86026</td>\n",
       "      <td>-4.25596</td>\n",
       "      <td>72252.80</td>\n",
       "      <td>UK</td>\n",
       "      <td>Scotland</td>\n",
       "      <td>Glasgow</td>\n",
       "      <td>Unknown</td>\n",
       "      <td>general tech skills</td>\n",
       "    </tr>\n",
       "  </tbody>\n",
       "</table>\n",
       "</div>"
      ],
      "text/plain": [
       "                 title  \\\n",
       "0        Data Engineer   \n",
       "1  Senior Data Analyst   \n",
       "\n",
       "                                                                                                                                                                                                                                                                                                                                                                                                                                                                                                            description  \\\n",
       "0  At NTT DATA, we know that with the right people on board, anything is possible. The quality, integrity, and commitment of our employees are key factors in our company’s growth, market presence and our ability to help our clients stay a step ahead of the competition. By hiring the best people and helping them grow both professionally and personally, we ensure a bright future for NTT DATA and for the people who work here. NTT DATA is currently looking for a Data Engineer for our growing team in t…   \n",
       "1  Competitive salary | UK/Glasgow: hybrid working model (2-3 days on site) At NTT DATA, we know that with the right people on board, anything is possible. The quality, integrity, and commitment of our employees are key factors in our company’s growth, market presence and our ability to help our clients stay a step ahead of the competition. By hiring the best people and helping them grow both professionally and personally, we ensure a bright future for NTT DATA and for the people who work here. NT…   \n",
       "\n",
       "   salary_min  salary_max  latitude  longitude  salary_mid country    region  \\\n",
       "0    60358.53    60358.53  55.86026   -4.25596    60358.53      UK  Scotland   \n",
       "1    72252.80    72252.80  55.86026   -4.25596    72252.80      UK  Scotland   \n",
       "\n",
       "    county     city     skills_extracted  \n",
       "0  Glasgow  Unknown  general tech skills  \n",
       "1  Glasgow  Unknown  general tech skills  "
      ]
     },
     "execution_count": 3,
     "metadata": {},
     "output_type": "execute_result"
    }
   ],
   "source": [
    "print(\"Cleaned data shape:\", df_clean.shape)\n",
    "print(\"\\nColumns after cleaning:\")\n",
    "print(df_clean.columns.tolist())\n",
    "print(\"\\nFirst few rows of cleaned data:\")\n",
    "df_clean.head(2)"
   ]
  },
  {
   "cell_type": "code",
   "execution_count": 4,
   "id": "70055771",
   "metadata": {},
   "outputs": [
    {
     "name": "stdout",
     "output_type": "stream",
     "text": [
      "<class 'pandas.core.frame.DataFrame'>\n",
      "RangeIndex: 1783 entries, 0 to 1782\n",
      "Data columns (total 12 columns):\n",
      " #   Column            Non-Null Count  Dtype  \n",
      "---  ------            --------------  -----  \n",
      " 0   title             1783 non-null   object \n",
      " 1   description       1783 non-null   object \n",
      " 2   salary_min        1783 non-null   float64\n",
      " 3   salary_max        1783 non-null   float64\n",
      " 4   latitude          1783 non-null   float64\n",
      " 5   longitude         1783 non-null   float64\n",
      " 6   salary_mid        1783 non-null   float64\n",
      " 7   country           1783 non-null   object \n",
      " 8   region            1783 non-null   object \n",
      " 9   county            1783 non-null   object \n",
      " 10  city              1783 non-null   object \n",
      " 11  skills_extracted  1783 non-null   object \n",
      "dtypes: float64(5), object(7)\n",
      "memory usage: 167.3+ KB\n"
     ]
    }
   ],
   "source": [
    "df_clean.info()"
   ]
  },
  {
   "cell_type": "code",
   "execution_count": 5,
   "id": "71ad7e86",
   "metadata": {},
   "outputs": [
    {
     "name": "stdout",
     "output_type": "stream",
     "text": [
      "\n",
      "Missing values after cleaning:\n",
      "title               0\n",
      "description         0\n",
      "salary_min          0\n",
      "salary_max          0\n",
      "latitude            0\n",
      "longitude           0\n",
      "salary_mid          0\n",
      "country             0\n",
      "region              0\n",
      "county              0\n",
      "city                0\n",
      "skills_extracted    0\n",
      "dtype: int64\n"
     ]
    }
   ],
   "source": [
    "# Check for any remaining missing values\n",
    "print(\"\\nMissing values after cleaning:\")\n",
    "print(df_clean.isna().sum())"
   ]
  },
  {
   "cell_type": "code",
   "execution_count": 6,
   "id": "bf62ae42",
   "metadata": {},
   "outputs": [],
   "source": [
    "#..Save the fully cleaned data\n",
    "clean_data_path = os.path.join(project_root, 'data', 'processed', 'jobs_clean.csv')\n",
    "save_clean_data(df_clean, clean_data_path)\n",
    "\n",
    "#print(f\"\\nFull cleaned data saved to: {clean_data_path}\")"
   ]
  },
  {
   "cell_type": "code",
   "execution_count": 7,
   "id": "cc713b5c",
   "metadata": {},
   "outputs": [],
   "source": [
    "# Save a sample clean data for demonstration\n",
    "sample_data_path = os.path.join(project_root, 'data', 'processed', 'jobs_clean_sample.csv')\n",
    "save_clean_data(df_clean, sample_data_path, sample_size=50)\n",
    "\n",
    "#print(f\"Sample data saved to: {sample_data_path}\")\n"
   ]
  },
  {
   "cell_type": "code",
   "execution_count": 8,
   "id": "54fd1f6c",
   "metadata": {},
   "outputs": [
    {
     "name": "stdout",
     "output_type": "stream",
     "text": [
      "\n",
      "Number of jobs: 1783\n",
      "Average salary: £54516.29\n",
      "Salary range: £12.00 - £312000.00\n"
     ]
    }
   ],
   "source": [
    "\n",
    "# Basic statistics\n",
    "print(f\"\\nNumber of jobs: {len(df_clean)}\")\n",
    "print(f\"Average salary: £{df_clean['salary_mid'].mean():.2f}\")\n",
    "print(f\"Salary range: £{df_clean['salary_mid'].min():.2f} - £{df_clean['salary_mid'].max():.2f}\")\n"
   ]
  },
  {
   "cell_type": "code",
   "execution_count": 9,
   "id": "cdce283a",
   "metadata": {},
   "outputs": [
    {
     "name": "stdout",
     "output_type": "stream",
     "text": [
      "\n",
      "Jobs by region:\n"
     ]
    },
    {
     "data": {
      "text/plain": [
       "region\n",
       "London                      344\n",
       "South East England          306\n",
       "North West England          195\n",
       "Eastern England             191\n",
       "South West England          171\n",
       "West Midlands               129\n",
       "Yorkshire And The Humber    123\n",
       "Scotland                    111\n",
       "East Midlands                88\n",
       "Wales                        64\n",
       "North East England           38\n",
       "Northern Ireland             22\n",
       "Channel Isles                 1\n",
       "Name: count, dtype: int64"
      ]
     },
     "metadata": {},
     "output_type": "display_data"
    }
   ],
   "source": [
    "# Explore job distribution by region\n",
    "print(\"\\nJobs by region:\")\n",
    "display(df_clean['region'].value_counts())"
   ]
  },
  {
   "cell_type": "code",
   "execution_count": null,
   "id": "19fd4127",
   "metadata": {},
   "outputs": [],
   "source": []
  },
  {
   "cell_type": "code",
   "execution_count": null,
   "id": "5586eb1b",
   "metadata": {},
   "outputs": [],
   "source": []
  }
 ],
 "metadata": {
  "kernelspec": {
   "display_name": "venv (3.12.7)",
   "language": "python",
   "name": "python3"
  },
  "language_info": {
   "codemirror_mode": {
    "name": "ipython",
    "version": 3
   },
   "file_extension": ".py",
   "mimetype": "text/x-python",
   "name": "python",
   "nbconvert_exporter": "python",
   "pygments_lexer": "ipython3",
   "version": "3.12.7"
  }
 },
 "nbformat": 4,
 "nbformat_minor": 5
}
